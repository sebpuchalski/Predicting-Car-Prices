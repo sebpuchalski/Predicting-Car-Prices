{
 "cells": [
  {
   "cell_type": "code",
   "execution_count": 1,
   "metadata": {
    "collapsed": false
   },
   "outputs": [],
   "source": [
    "import pandas as pd\n",
    "import numpy as np\n",
    "import matplotlib.pyplot as plt\n",
    "\n",
    "col_names= [\"symboling\", \n",
    "            \"normalized-losses\", \n",
    "            \"make\", \n",
    "            \"fuel-type\", \n",
    "            \"aspiration\", \n",
    "            \"num-of-doors\",           \n",
    "            \"body-style\",\n",
    "            \"drive-wheels\",\n",
    "            \"engine-location\",\n",
    "            \"wheel-base\",\n",
    "            \"length\",\n",
    "            \"width\",\n",
    "            \"height\",\n",
    "            \"curb-weight\",\n",
    "            \"engine-type\",\n",
    "            'num-of-cylinders',\n",
    "            'engine-size',\n",
    "            'fuel-system',\n",
    "            'bore',\n",
    "            'stroke',\n",
    "            'compression-ratio',\n",
    "            'horsepower',\n",
    "            'peak-rpm',\n",
    "            'city-mpg',\n",
    "            'highway-mpg',\n",
    "            'price']\n",
    "\n",
    "\n",
    "cars = pd.read_csv(\"imports-85.data\",header=None, names=col_names)"
   ]
  },
  {
   "cell_type": "markdown",
   "metadata": {},
   "source": [
    "Attribute Information:\n",
    "\n",
    "Attribute: Attribute Range \n",
    "\n",
    "1. symboling: -3, -2, -1, 0, 1, 2, 3. \n",
    "2. normalized-losses: continuous from 65 to 256. \n",
    "3. make: \n",
    "alfa-romero, audi, bmw, chevrolet, dodge, honda, \n",
    "isuzu, jaguar, mazda, mercedes-benz, mercury, \n",
    "mitsubishi, nissan, peugot, plymouth, porsche, \n",
    "renault, saab, subaru, toyota, volkswagen, volvo \n",
    "\n",
    "4. fuel-type: diesel, gas. \n",
    "5. aspiration: std, turbo. \n",
    "6. num-of-doors: four, two. \n",
    "7. body-style: hardtop, wagon, sedan, hatchback, convertible. \n",
    "8. drive-wheels: 4wd, fwd, rwd. \n",
    "9. engine-location: front, rear. \n",
    "10. wheel-base: continuous from 86.6 120.9. \n",
    "11. length: continuous from 141.1 to 208.1. \n",
    "12. width: continuous from 60.3 to 72.3. \n",
    "13. height: continuous from 47.8 to 59.8. \n",
    "14. curb-weight: continuous from 1488 to 4066. \n",
    "15. engine-type: dohc, dohcv, l, ohc, ohcf, ohcv, rotor. \n",
    "16. num-of-cylinders: eight, five, four, six, three, twelve, two. \n",
    "17. engine-size: continuous from 61 to 326. \n",
    "18. fuel-system: 1bbl, 2bbl, 4bbl, idi, mfi, mpfi, spdi, spfi. \n",
    "19. bore: continuous from 2.54 to 3.94. \n",
    "20. stroke: continuous from 2.07 to 4.17. \n",
    "21. compression-ratio: continuous from 7 to 23. \n",
    "22. horsepower: continuous from 48 to 288. \n",
    "23. peak-rpm: continuous from 4150 to 6600. \n",
    "24. city-mpg: continuous from 13 to 49. \n",
    "25. highway-mpg: continuous from 16 to 54. \n",
    "26. price: continuous from 5118 to 45400.\n",
    "\n",
    "continuous variables:\n",
    "2,10,11,12,13,14,17,19,20,21,22,23,24,25,26"
   ]
  },
  {
   "cell_type": "code",
   "execution_count": 2,
   "metadata": {
    "collapsed": false,
    "scrolled": true
   },
   "outputs": [
    {
     "name": "stdout",
     "output_type": "stream",
     "text": [
      "symboling             0\n",
      "normalized-losses    41\n",
      "make                  0\n",
      "fuel-type             0\n",
      "aspiration            0\n",
      "num-of-doors          2\n",
      "body-style            0\n",
      "drive-wheels          0\n",
      "engine-location       0\n",
      "wheel-base            0\n",
      "length                0\n",
      "width                 0\n",
      "height                0\n",
      "curb-weight           0\n",
      "engine-type           0\n",
      "num-of-cylinders      0\n",
      "engine-size           0\n",
      "fuel-system           0\n",
      "bore                  4\n",
      "stroke                4\n",
      "compression-ratio     0\n",
      "horsepower            2\n",
      "peak-rpm              2\n",
      "city-mpg              0\n",
      "highway-mpg           0\n",
      "price                 4\n",
      "dtype: int64\n"
     ]
    }
   ],
   "source": [
    "#replace ? with np.NaN\n",
    "cars= cars.replace(\"?\", np.NaN)\n",
    "print(cars.isnull().sum())"
   ]
  },
  {
   "cell_type": "code",
   "execution_count": 3,
   "metadata": {
    "collapsed": false
   },
   "outputs": [
    {
     "name": "stdout",
     "output_type": "stream",
     "text": [
      "symboling              int64\n",
      "normalized-losses     object\n",
      "make                  object\n",
      "fuel-type             object\n",
      "aspiration            object\n",
      "num-of-doors          object\n",
      "body-style            object\n",
      "drive-wheels          object\n",
      "engine-location       object\n",
      "wheel-base           float64\n",
      "length               float64\n",
      "width                float64\n",
      "height               float64\n",
      "curb-weight            int64\n",
      "engine-type           object\n",
      "num-of-cylinders      object\n",
      "engine-size            int64\n",
      "fuel-system           object\n",
      "bore                  object\n",
      "stroke                object\n",
      "compression-ratio    float64\n",
      "horsepower            object\n",
      "peak-rpm              object\n",
      "city-mpg               int64\n",
      "highway-mpg            int64\n",
      "price                 object\n",
      "dtype: object\n"
     ]
    }
   ],
   "source": [
    "print(cars.dtypes)"
   ]
  },
  {
   "cell_type": "code",
   "execution_count": 4,
   "metadata": {
    "collapsed": false
   },
   "outputs": [
    {
     "name": "stdout",
     "output_type": "stream",
     "text": [
      "symboling              int64\n",
      "normalized-losses    float64\n",
      "make                  object\n",
      "fuel-type             object\n",
      "aspiration            object\n",
      "num-of-doors          object\n",
      "body-style            object\n",
      "drive-wheels          object\n",
      "engine-location       object\n",
      "wheel-base           float64\n",
      "length               float64\n",
      "width                float64\n",
      "height               float64\n",
      "curb-weight            int64\n",
      "engine-type           object\n",
      "num-of-cylinders      object\n",
      "engine-size            int64\n",
      "fuel-system           object\n",
      "bore                 float64\n",
      "stroke               float64\n",
      "compression-ratio    float64\n",
      "horsepower           float64\n",
      "peak-rpm             float64\n",
      "city-mpg               int64\n",
      "highway-mpg            int64\n",
      "price                float64\n",
      "dtype: object\n"
     ]
    }
   ],
   "source": [
    "# convert object columns that should be numeric to numerics\n",
    "cars[[\"normalized-losses\", \"bore\", \"stroke\", \"horsepower\", \n",
    "     \"peak-rpm\", \"price\"]] = cars[[\"normalized-losses\", \"bore\", \"stroke\", \"horsepower\", \n",
    "     \"peak-rpm\", \"price\"]].astype(float)\n",
    "\n",
    "print(cars.dtypes)"
   ]
  },
  {
   "cell_type": "code",
   "execution_count": 5,
   "metadata": {
    "collapsed": false
   },
   "outputs": [
    {
     "data": {
      "image/png": "[encoded data removed]",
      "text/plain": [
       "<matplotlib.figure.Figure at 0x7f071cde55f8>"
      ]
     },
     "metadata": {},
     "output_type": "display_data"
    }
   ],
   "source": [
    "% matplotlib inline\n",
    "cars=cars.dropna(how=\"all\")\n",
    "plt.scatter(x=cars[\"normalized-losses\"],y=cars[\"price\"])\n",
    "plt.show()"
   ]
  },
  {
   "cell_type": "markdown",
   "metadata": {},
   "source": [
    "The normalized-losses column may be important in the analysis. Replacing the missing values with averages may not be the most optimal solution. Instead the missing rows will be dropped leaving a sufficient number of datapoints for the analysis."
   ]
  },
  {
   "cell_type": "code",
   "execution_count": 6,
   "metadata": {
    "collapsed": false
   },
   "outputs": [],
   "source": [
    "#dropping any row with missing values\n",
    "cars = cars.dropna(how=\"any\")\n",
    "price = cars[\"price\"]\n",
    "#normalizing the numeric columns and creating a dataframe with just numeric columns\n",
    "df = cars[[\"symboling\", \"normalized-losses\", \"wheel-base\", \"length\", \"width\", \"height\", \"curb-weight\",\n",
    "\"engine-size\", \"bore\", \"stroke\", \"compression-ratio\", \"horsepower\", \"peak-rpm\", \"city-mpg\",\n",
    "\"highway-mpg\"]]\n",
    "\n",
    "cars = (df - df.mean()) / (df.max() - df.min())\n",
    "cars[\"price\"] = price"
   ]
  },
  {
   "cell_type": "code",
   "execution_count": 7,
   "metadata": {
    "collapsed": false
   },
   "outputs": [],
   "source": [
    "cars = cars.reset_index(drop = True)"
   ]
  },
  {
   "cell_type": "code",
   "execution_count": 8,
   "metadata": {
    "collapsed": false
   },
   "outputs": [
    {
     "data": {
      "text/plain": [
       "106"
      ]
     },
     "execution_count": 8,
     "metadata": {},
     "output_type": "execute_result"
    }
   ],
   "source": [
    "# def knn_train_test(train_col, target_col, df):\n",
    "int(cars.shape[0]*(2/3))"
   ]
  },
  {
   "cell_type": "code",
   "execution_count": 9,
   "metadata": {
    "collapsed": false
   },
   "outputs": [],
   "source": [
    "from sklearn.neighbors import KNeighborsRegressor\n",
    "from sklearn.metrics import mean_squared_error\n",
    "\n",
    "\n",
    "def knn_train_test(train_col, test_col, df, k):\n",
    "    \n",
    "    #randomize the order:\n",
    "    randomized_order = np.random.permutation(len(df))\n",
    "    df = df.loc[randomized_order].copy()\n",
    "    \n",
    "    #Create test and train dataframes:\n",
    "    train = df.iloc[0:(int(cars.shape[0]*(2/3))),:]\n",
    "    test = df.iloc[(int(cars.shape[0]*(2/3))):,:]\n",
    "    \n",
    "    #Machine learning\n",
    "    knn = KNeighborsRegressor(n_neighbors = k)\n",
    "    knn.fit(train[[train_col]], train[test_col])\n",
    "    \n",
    "    predictions = knn.predict(test[[train_col]])\n",
    "    rmse = np.sqrt(mean_squared_error(test[test_col], predictions))\n",
    "    return rmse"
   ]
  },
  {
   "cell_type": "code",
   "execution_count": 10,
   "metadata": {
    "collapsed": false
   },
   "outputs": [
    {
     "data": {
      "text/plain": [
       "5583.250906666514"
      ]
     },
     "execution_count": 10,
     "metadata": {},
     "output_type": "execute_result"
    }
   ],
   "source": [
    "knn_train_test(\"normalized-losses\",\"price\",cars, 10)"
   ]
  },
  {
   "cell_type": "markdown",
   "metadata": {},
   "source": [
    "For each numeric column, create, train, and test a univariate model using the following k values (1, 3, 5, 7, and 9). Visualize the results using a scatter plot or a line plot."
   ]
  },
  {
   "cell_type": "code",
   "execution_count": 11,
   "metadata": {
    "collapsed": false
   },
   "outputs": [],
   "source": [
    "num=['symboling',\n",
    "'normalized-losses',\n",
    "'wheel-base',\n",
    "'length',\n",
    "'width',\n",
    "'height',\n",
    "'curb-weight',\n",
    "'engine-size',\n",
    "'bore',\n",
    "'stroke',\n",
    "'compression-ratio',\n",
    "'horsepower',\n",
    "'peak-rpm',\n",
    "'city-mpg',\n",
    "'highway-mpg']"
   ]
  },
  {
   "cell_type": "code",
   "execution_count": 12,
   "metadata": {
    "collapsed": true
   },
   "outputs": [],
   "source": [
    "def knn_train_test2(train_col, test_col, df):\n",
    "    np.random.seed(2)\n",
    "    #randomize the order:\n",
    "    randomized_order = np.random.permutation(len(df))\n",
    "    df = df.loc[randomized_order].copy()\n",
    "    \n",
    "    #Create test and train dataframes:\n",
    "    train = df.iloc[0:(int(cars.shape[0]*(2/3))),:]\n",
    "    test = df.iloc[(int(cars.shape[0]*(2/3))):,:]    \n",
    "    \n",
    "    k_vals = [1,3,5,7,9]\n",
    "    \n",
    "    result = list()\n",
    "    \n",
    "    for k in k_vals:\n",
    "    \n",
    "        #Machine learning\n",
    "        knn = KNeighborsRegressor(n_neighbors = k)\n",
    "        knn.fit(train[[train_col]], train[test_col])\n",
    "\n",
    "        predictions = knn.predict(test[[train_col]])\n",
    "        rmse = np.sqrt(mean_squared_error(test[test_col], predictions))\n",
    "\n",
    "        result.append(rmse)\n",
    "    \n",
    "    return result"
   ]
  },
  {
   "cell_type": "code",
   "execution_count": 13,
   "metadata": {
    "collapsed": false
   },
   "outputs": [
    {
     "data": {
      "text/plain": [
       "{'bore': [5002.673673826072,\n",
       "  3265.71771224958,\n",
       "  3319.7910071751135,\n",
       "  3826.5226462399432,\n",
       "  4028.6869202245016],\n",
       " 'city-mpg': [3995.628590120543,\n",
       "  3299.1346886600945,\n",
       "  3867.187080290048,\n",
       "  4130.501845160754,\n",
       "  3959.2451745504795],\n",
       " 'compression-ratio': [4674.54448391236,\n",
       "  4958.493366266851,\n",
       "  5221.427526919044,\n",
       "  5504.896885961388,\n",
       "  5752.74166466541],\n",
       " 'curb-weight': [2845.684422101066,\n",
       "  2885.962976527383,\n",
       "  2800.146205077749,\n",
       "  2822.907895030848,\n",
       "  2982.6257395712028],\n",
       " 'engine-size': [3658.885986250099,\n",
       "  2919.3529606053785,\n",
       "  3467.1975437732367,\n",
       "  3632.769816895793,\n",
       "  3488.1536723166],\n",
       " 'height': [5360.075046996447,\n",
       "  6363.060737380172,\n",
       "  5456.818860976552,\n",
       "  5540.39139044686,\n",
       "  5699.130569651986],\n",
       " 'highway-mpg': [4884.630506873498,\n",
       "  3717.791238332769,\n",
       "  3646.6179253638443,\n",
       "  3582.8227376936065,\n",
       "  3665.0632304702435],\n",
       " 'horsepower': [3260.7024159347966,\n",
       "  2862.183812423764,\n",
       "  3368.644767530605,\n",
       "  3802.0616621698623,\n",
       "  4119.297945262623],\n",
       " 'length': [3603.4033598231695,\n",
       "  3993.6828862351013,\n",
       "  4075.4736697042754,\n",
       "  3992.8856460029274,\n",
       "  4201.313876607418],\n",
       " 'normalized-losses': [4468.948774705679,\n",
       "  4522.864791294941,\n",
       "  5479.165671440712,\n",
       "  5731.173446908771,\n",
       "  6096.744325889192],\n",
       " 'peak-rpm': [5312.242505191406,\n",
       "  5452.932229101898,\n",
       "  5705.0628815346245,\n",
       "  5669.1019914692315,\n",
       "  5576.407154111657],\n",
       " 'stroke': [4207.518338170107,\n",
       "  3988.206940678624,\n",
       "  4900.965821488273,\n",
       "  5322.732951625182,\n",
       "  5587.016892205108],\n",
       " 'symboling': [7257.709656140165,\n",
       "  5271.964298630799,\n",
       "  5251.753244142235,\n",
       "  5239.101833405533,\n",
       "  5182.155206742574],\n",
       " 'wheel-base': [3371.991184325637,\n",
       "  3803.219099922141,\n",
       "  3768.094832961171,\n",
       "  3985.2998864362326,\n",
       "  4209.377326911522],\n",
       " 'width': [3228.748489944789,\n",
       "  2541.203227776899,\n",
       "  2812.022031905961,\n",
       "  2996.0398547617415,\n",
       "  3077.099995415212]}"
      ]
     },
     "execution_count": 13,
     "metadata": {},
     "output_type": "execute_result"
    }
   ],
   "source": [
    "k_vals = [1,3,5,7,9]\n",
    "cols = num\n",
    "dic={}\n",
    "k_v = list()\n",
    "col = list()\n",
    "\n",
    "for col in cols:\n",
    "    result = knn_train_test2(col, \"price\", cars)\n",
    "    dic[col] = result\n",
    "\n",
    "dic  "
   ]
  },
  {
   "cell_type": "code",
   "execution_count": 14,
   "metadata": {
    "collapsed": false
   },
   "outputs": [
    {
     "data": {
      "image/png": "[encoded data removed]",
      "text/plain": [
       "<matplotlib.figure.Figure at 0x7f0711eceac8>"
      ]
     },
     "metadata": {},
     "output_type": "display_data"
    }
   ],
   "source": [
    "for n in num:\n",
    "    y = dic[n]\n",
    "    x = [1,3,5,7,9]\n",
    "    plt.plot(x,y)"
   ]
  },
  {
   "cell_type": "markdown",
   "metadata": {},
   "source": [
    "5 folds are sufficient for data optimization"
   ]
  },
  {
   "cell_type": "code",
   "execution_count": 15,
   "metadata": {
    "collapsed": false
   },
   "outputs": [],
   "source": [
    "def knn_train_test3(train_cols, test_col, df):\n",
    "    \"\"\"This function can take a list of columns\"\"\"\n",
    "    #randomize the order:\n",
    "    randomized_order = np.random.permutation(len(df))\n",
    "    df = df.loc[randomized_order].copy()\n",
    "    \n",
    "    #Create test and train dataframes:\n",
    "    train = df.iloc[0:(int(cars.shape[0]*(2/3))),:]\n",
    "    test = df.iloc[(int(cars.shape[0]*(2/3))):,:]    \n",
    "    \n",
    "   \n",
    "    #Machine learning\n",
    "    knn = KNeighborsRegressor()\n",
    "    knn.fit(train[train_cols], train[test_col])\n",
    "\n",
    "    predictions = knn.predict(test[train_cols])\n",
    "    rmse = np.sqrt(mean_squared_error(test[test_col], predictions))\n",
    "\n",
    "    \n",
    "    \n",
    "    return rmse"
   ]
  },
  {
   "cell_type": "code",
   "execution_count": 16,
   "metadata": {
    "collapsed": false
   },
   "outputs": [
    {
     "data": {
      "text/plain": [
       "['width',\n",
       " 'curb-weight',\n",
       " 'horsepower',\n",
       " 'engine-size',\n",
       " 'bore',\n",
       " 'city-mpg',\n",
       " 'wheel-base',\n",
       " 'highway-mpg',\n",
       " 'length',\n",
       " 'stroke',\n",
       " 'normalized-losses',\n",
       " 'compression-ratio',\n",
       " 'symboling',\n",
       " 'peak-rpm',\n",
       " 'height']"
      ]
     },
     "execution_count": 16,
     "metadata": {},
     "output_type": "execute_result"
    }
   ],
   "source": [
    "# Sorting for lowest RMSE\n",
    "\n",
    "placeholder = {}\n",
    "\n",
    "for key, value in dic.items():\n",
    "    placeholder[key] = np.min(value)\n",
    "    \n",
    "sorted(placeholder, key=placeholder.__getitem__)"
   ]
  },
  {
   "cell_type": "code",
   "execution_count": 17,
   "metadata": {
    "collapsed": false
   },
   "outputs": [
    {
     "name": "stdout",
     "output_type": "stream",
     "text": [
      "RMSE for:\n",
      "2 best features: 1732.7177389923809\n",
      "3 best features: 2775.974847229857\n",
      "4 best features: 3176.6381289445217\n",
      "5 best features: 2576.5306120279224\n"
     ]
    }
   ],
   "source": [
    "cols2 = ['width', 'curb-weight']\n",
    "cols3 = ['width', 'curb-weight','horsepower']\n",
    "cols4 = ['width', 'curb-weight','horsepower','engine-size']\n",
    "cols5 = ['width', 'curb-weight','horsepower','engine-size','bore']\n",
    "\n",
    "result2 = knn_train_test3(cols2, \"price\", cars)\n",
    "result3 = knn_train_test3(cols3, \"price\", cars)\n",
    "result4 = knn_train_test3(cols4, \"price\", cars)\n",
    "result5 = knn_train_test3(cols5, \"price\", cars)\n",
    "\n",
    "print(\"RMSE for:\")\n",
    "print(\"2 best features: \" + str(result2))\n",
    "print(\"3 best features: \" + str(result3))\n",
    "print(\"4 best features: \" + str(result4))\n",
    "print(\"5 best features: \" + str(result5))"
   ]
  },
  {
   "cell_type": "markdown",
   "metadata": {},
   "source": [
    "Best RMSE is obtained by using the two best features."
   ]
  },
  {
   "cell_type": "markdown",
   "metadata": {},
   "source": [
    "## Vary the hyperparameter value k for the top 3 models"
   ]
  },
  {
   "cell_type": "code",
   "execution_count": 21,
   "metadata": {
    "collapsed": true
   },
   "outputs": [],
   "source": [
    "def knn_train_test4(train_cols, test_col, df):\n",
    "    np.random.seed(1)\n",
    "    #randomize the order:\n",
    "    randomized_order = np.random.permutation(len(df))\n",
    "    df = df.loc[randomized_order].copy()\n",
    "    \n",
    "    #Create test and train dataframes:\n",
    "    train = df.iloc[0:(int(cars.shape[0]*(2/3))),:]\n",
    "    test = df.iloc[(int(cars.shape[0]*(2/3))):,:]    \n",
    "    \n",
    "    k_vals = list(range(26)[1:])\n",
    "    \n",
    "    result = list()\n",
    "    \n",
    "    for k in k_vals:\n",
    "    \n",
    "        #Machine learning\n",
    "        knn = KNeighborsRegressor(n_neighbors = k)\n",
    "        knn.fit(train[train_cols], train[test_col])\n",
    "\n",
    "        predictions = knn.predict(test[train_cols])\n",
    "        rmse = np.sqrt(mean_squared_error(test[test_col], predictions))\n",
    "\n",
    "        result.append(rmse)\n",
    "    \n",
    "    return result"
   ]
  },
  {
   "cell_type": "code",
   "execution_count": 22,
   "metadata": {
    "collapsed": false
   },
   "outputs": [],
   "source": [
    "col2_rank = knn_train_test4(cols2, \"price\", cars)\n",
    "col5_rank = knn_train_test4(cols5, \"price\", cars)\n",
    "col4_rank = knn_train_test4(cols4, \"price\", cars)"
   ]
  },
  {
   "cell_type": "code",
   "execution_count": 23,
   "metadata": {
    "collapsed": false
   },
   "outputs": [
    {
     "data": {
      "image/png": "[encoded data removed]",
      "text/plain": [
       "<matplotlib.figure.Figure at 0x7f0711deccf8>"
      ]
     },
     "metadata": {},
     "output_type": "display_data"
    }
   ],
   "source": [
    "y2 = col2_rank\n",
    "y5 = col5_rank\n",
    "y4 = col4_rank\n",
    "x = list(range(26)[1:])\n",
    "plt.plot(x,y2)\n",
    "plt.plot(x,y5)\n",
    "plt.plot(x,y4)\n",
    "plt.legend([2,5,4])\n",
    "plt.show()"
   ]
  },
  {
   "cell_type": "markdown",
   "metadata": {},
   "source": [
    "For the best RMSE use 2 best features at k = 2"
   ]
  },
  {
   "cell_type": "markdown",
   "metadata": {
    "collapsed": true
   },
   "source": [
    "# modifiy to do k-fold cross validation"
   ]
  }
 ],
 "metadata": {
  "kernelspec": {
   "display_name": "Python 3",
   "language": "python",
   "name": "python3"
  },
  "language_info": {
   "codemirror_mode": {
    "name": "ipython",
    "version": 3
   },
   "file_extension": ".py",
   "mimetype": "text/x-python",
   "name": "python",
   "nbconvert_exporter": "python",
   "pygments_lexer": "ipython3",
   "version": "3.4.3"
  }
 },
 "nbformat": 4,
 "nbformat_minor": 2
}
